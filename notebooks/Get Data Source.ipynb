{
 "cells": [
  {
   "cell_type": "code",
   "execution_count": 2,
   "metadata": {
    "collapsed": true
   },
   "outputs": [
    {
     "data": {
      "text/plain": "5304953"
     },
     "execution_count": 2,
     "metadata": {},
     "output_type": "execute_result"
    }
   ],
   "source": [
    "import requests\n",
    "import os\n",
    "\n",
    "source_url = 'https://covid.ourworldindata.org/data/owid-covid-data.csv'\n",
    "download = requests.get(source_url)\n",
    "save_file = os.getcwd()+'\\\\Corona Analytics Project\\\\data\\\\owid-covid-data.csv'\n",
    "open(save_file, 'wb').write(download.content)"
   ]
  }
 ],
 "metadata": {
  "kernelspec": {
   "name": "pycharm-e90fdccf",
   "language": "python",
   "display_name": "PyCharm (Corona Analytics Project)"
  },
  "language_info": {
   "codemirror_mode": {
    "name": "ipython",
    "version": 2
   },
   "file_extension": ".py",
   "mimetype": "text/x-python",
   "name": "python",
   "nbconvert_exporter": "python",
   "pygments_lexer": "ipython2",
   "version": "2.7.6"
  }
 },
 "nbformat": 4,
 "nbformat_minor": 0
}